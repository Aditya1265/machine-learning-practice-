{
 "cells": [
  {
   "cell_type": "code",
   "execution_count": 65,
   "metadata": {},
   "outputs": [],
   "source": [
    "import kagglehub\n",
    "import pandas as pd\n",
    "import numpy as np\n",
    "import seaborn as sns\n",
    "import matplotlib\n",
    "import matplotlib.pyplot as px\n",
    "import os"
   ]
  },
  {
   "cell_type": "code",
   "execution_count": 131,
   "metadata": {},
   "outputs": [],
   "source": [
    "path = kagglehub.dataset_download(\"hopesb/student-depression-dataset\")\n",
    "data_dir=r\"C:\\Users\\BIT\\.kaggle\\archive\"\n",
    "train_csv= data_dir + r'\\Student Depression Dataset.csv'\n",
    "raw_df = pd.read_csv(train_csv)"
   ]
  },
  {
   "cell_type": "code",
   "execution_count": 119,
   "metadata": {},
   "outputs": [],
   "source": [
    "raw_df.drop(columns=['Work Pressure', 'Job Satisfaction'], errors='ignore', inplace=True)\n",
    "raw_df = raw_df.loc[raw_df['Profession'] == 'Student']\n",
    "raw_df['Financial Stress']=raw_df['Financial Stress'].fillna(raw_df['Financial Stress'].median())\n",
    "from sklearn.model_selection import train_test_split\n",
    "train_val_df,test_df=train_test_split(raw_df,test_size=0.2,random_state=42)\n",
    "train_df,val_df=train_test_split(train_val_df,test_size=0.25,random_state=42)"
   ]
  },
  {
   "cell_type": "code",
   "execution_count": 120,
   "metadata": {},
   "outputs": [],
   "source": [
    "input_col=list(train_df.columns)[1:-1]\n",
    "target_col='Depression'"
   ]
  },
  {
   "cell_type": "code",
   "execution_count": 121,
   "metadata": {},
   "outputs": [],
   "source": [
    "train_input=train_df[input_col].copy()\n",
    "train_target=train_df[target_col].copy()\n",
    "val_input=val_df[input_col].copy()\n",
    "val_target=val_df[target_col].copy()\n",
    "test_input=test_df[input_col].copy()\n",
    "test_target=test_df[target_col].copy()"
   ]
  },
  {
   "cell_type": "code",
   "execution_count": 122,
   "metadata": {},
   "outputs": [],
   "source": [
    "import numpy as np\n",
    "numeric_col=train_input.select_dtypes(include=np.number).columns.tolist()\n",
    "catagorical_col=train_input.select_dtypes('object').columns.tolist()\n",
    "train_input[catagorical_col].nunique ()\n",
    "numeric_coll = raw_df.select_dtypes(include=['float64', 'int64']).columns"
   ]
  },
  {
   "cell_type": "code",
   "execution_count": 123,
   "metadata": {},
   "outputs": [],
   "source": [
    "from sklearn.impute import SimpleImputer \n",
    "imputer= SimpleImputer(strategy='mean')\n",
    "imputer.fit(raw_df[numeric_col])\n",
    "train_input[numeric_col]=imputer.transform(train_input[numeric_col])\n",
    "val_input[numeric_col]=imputer.transform(val_input[numeric_col])\n",
    "test_input[numeric_col]=imputer.transform(test_input[numeric_col])"
   ]
  },
  {
   "cell_type": "code",
   "execution_count": 124,
   "metadata": {},
   "outputs": [
    {
     "data": {
      "text/html": [
       "<div>\n",
       "<style scoped>\n",
       "    .dataframe tbody tr th:only-of-type {\n",
       "        vertical-align: middle;\n",
       "    }\n",
       "\n",
       "    .dataframe tbody tr th {\n",
       "        vertical-align: top;\n",
       "    }\n",
       "\n",
       "    .dataframe thead th {\n",
       "        text-align: right;\n",
       "    }\n",
       "</style>\n",
       "<table border=\"1\" class=\"dataframe\">\n",
       "  <thead>\n",
       "    <tr style=\"text-align: right;\">\n",
       "      <th></th>\n",
       "      <th>Age</th>\n",
       "      <th>Academic Pressure</th>\n",
       "      <th>CGPA</th>\n",
       "      <th>Study Satisfaction</th>\n",
       "      <th>Work/Study Hours</th>\n",
       "      <th>Financial Stress</th>\n",
       "    </tr>\n",
       "  </thead>\n",
       "  <tbody>\n",
       "    <tr>\n",
       "      <th>count</th>\n",
       "      <td>16722.000000</td>\n",
       "      <td>16722.000000</td>\n",
       "      <td>16722.000000</td>\n",
       "      <td>16722.000000</td>\n",
       "      <td>16722.000000</td>\n",
       "      <td>16722.000000</td>\n",
       "    </tr>\n",
       "    <tr>\n",
       "      <th>mean</th>\n",
       "      <td>0.190236</td>\n",
       "      <td>0.626050</td>\n",
       "      <td>0.765194</td>\n",
       "      <td>0.589044</td>\n",
       "      <td>0.594735</td>\n",
       "      <td>0.535477</td>\n",
       "    </tr>\n",
       "    <tr>\n",
       "      <th>std</th>\n",
       "      <td>0.118860</td>\n",
       "      <td>0.275535</td>\n",
       "      <td>0.147253</td>\n",
       "      <td>0.272073</td>\n",
       "      <td>0.310727</td>\n",
       "      <td>0.358802</td>\n",
       "    </tr>\n",
       "    <tr>\n",
       "      <th>min</th>\n",
       "      <td>0.000000</td>\n",
       "      <td>0.000000</td>\n",
       "      <td>0.000000</td>\n",
       "      <td>0.000000</td>\n",
       "      <td>0.000000</td>\n",
       "      <td>0.000000</td>\n",
       "    </tr>\n",
       "    <tr>\n",
       "      <th>25%</th>\n",
       "      <td>0.073171</td>\n",
       "      <td>0.400000</td>\n",
       "      <td>0.628000</td>\n",
       "      <td>0.400000</td>\n",
       "      <td>0.333333</td>\n",
       "      <td>0.250000</td>\n",
       "    </tr>\n",
       "    <tr>\n",
       "      <th>50%</th>\n",
       "      <td>0.170732</td>\n",
       "      <td>0.600000</td>\n",
       "      <td>0.777000</td>\n",
       "      <td>0.600000</td>\n",
       "      <td>0.666667</td>\n",
       "      <td>0.500000</td>\n",
       "    </tr>\n",
       "    <tr>\n",
       "      <th>75%</th>\n",
       "      <td>0.292683</td>\n",
       "      <td>0.800000</td>\n",
       "      <td>0.892000</td>\n",
       "      <td>0.800000</td>\n",
       "      <td>0.833333</td>\n",
       "      <td>0.750000</td>\n",
       "    </tr>\n",
       "    <tr>\n",
       "      <th>max</th>\n",
       "      <td>0.926829</td>\n",
       "      <td>1.000000</td>\n",
       "      <td>1.000000</td>\n",
       "      <td>1.000000</td>\n",
       "      <td>1.000000</td>\n",
       "      <td>1.000000</td>\n",
       "    </tr>\n",
       "  </tbody>\n",
       "</table>\n",
       "</div>"
      ],
      "text/plain": [
       "                Age  Academic Pressure          CGPA  Study Satisfaction  \\\n",
       "count  16722.000000       16722.000000  16722.000000        16722.000000   \n",
       "mean       0.190236           0.626050      0.765194            0.589044   \n",
       "std        0.118860           0.275535      0.147253            0.272073   \n",
       "min        0.000000           0.000000      0.000000            0.000000   \n",
       "25%        0.073171           0.400000      0.628000            0.400000   \n",
       "50%        0.170732           0.600000      0.777000            0.600000   \n",
       "75%        0.292683           0.800000      0.892000            0.800000   \n",
       "max        0.926829           1.000000      1.000000            1.000000   \n",
       "\n",
       "       Work/Study Hours  Financial Stress  \n",
       "count      16722.000000      16722.000000  \n",
       "mean           0.594735          0.535477  \n",
       "std            0.310727          0.358802  \n",
       "min            0.000000          0.000000  \n",
       "25%            0.333333          0.250000  \n",
       "50%            0.666667          0.500000  \n",
       "75%            0.833333          0.750000  \n",
       "max            1.000000          1.000000  "
      ]
     },
     "execution_count": 124,
     "metadata": {},
     "output_type": "execute_result"
    }
   ],
   "source": [
    "from sklearn.preprocessing import MinMaxScaler\n",
    "scaler= MinMaxScaler()\n",
    "scaler.fit(raw_df[numeric_col])\n",
    "train_input[numeric_col]=scaler.transform(train_input[numeric_col])\n",
    "val_input[numeric_col]=scaler.transform(val_input[numeric_col])\n",
    "test_input[numeric_col]=scaler.transform(test_input[numeric_col])\n",
    "train_input[numeric_col].describe()"
   ]
  },
  {
   "cell_type": "code",
   "execution_count": 130,
   "metadata": {},
   "outputs": [],
   "source": [
    "from sklearn.preprocessing import OneHotEncoder\n",
    "encoder = OneHotEncoder(sparse_output=False,handle_unknown='ignore')\n",
    "encoder.fit(raw_df[catagorical_col])\n",
    "raw_df=raw_df[catagorical_col].fillna('unknown')\n",
    "encoded_cols= list(encoder.get_feature_names_out(catagorical_col))\n",
    "train_input[encoded_cols]=encoder.transform(train_input[catagorical_col])\n",
    "val_input[encoded_cols]=encoder.transform(val_input[catagorical_col])\n",
    "test_input[encoded_cols]=encoder.transform(test_input[catagorical_col])\n",
    "x_train=train_input[numeric_col + encoded_cols]\n",
    "x_val=val_input[numeric_col + encoded_cols]\n",
    "x_test=test_input[numeric_col + encoded_cols]"
   ]
  },
  {
   "cell_type": "code",
   "execution_count": 136,
   "metadata": {},
   "outputs": [
    {
     "data": {
      "text/plain": [
       "array([0, 1, 0, ..., 1, 0, 0])"
      ]
     },
     "execution_count": 136,
     "metadata": {},
     "output_type": "execute_result"
    }
   ],
   "source": [
    "from sklearn.linear_model import LogisticRegression\n",
    "model=LogisticRegression()\n",
    "model.fit(x_train,train_target)\n",
    "pre=model.predict(x_train)  \n",
    "pre"
   ]
  },
  {
   "cell_type": "code",
   "execution_count": 137,
   "metadata": {},
   "outputs": [
    {
     "data": {
      "text/plain": [
       "0.8491807200095682"
      ]
     },
     "execution_count": 137,
     "metadata": {},
     "output_type": "execute_result"
    }
   ],
   "source": [
    "from sklearn.metrics import accuracy_score,confusion_matrix\n",
    "accuracy_score(train_target,pre)"
   ]
  },
  {
   "cell_type": "code",
   "execution_count": null,
   "metadata": {},
   "outputs": [],
   "source": []
  }
 ],
 "metadata": {
  "kernelspec": {
   "display_name": "Python 3",
   "language": "python",
   "name": "python3"
  },
  "language_info": {
   "codemirror_mode": {
    "name": "ipython",
    "version": 3
   },
   "file_extension": ".py",
   "mimetype": "text/x-python",
   "name": "python",
   "nbconvert_exporter": "python",
   "pygments_lexer": "ipython3",
   "version": "3.12.3"
  }
 },
 "nbformat": 4,
 "nbformat_minor": 2
}
